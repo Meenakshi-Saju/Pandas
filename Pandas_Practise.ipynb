{
  "nbformat": 4,
  "nbformat_minor": 0,
  "metadata": {
    "colab": {
      "name": "Pandas_Practise.ipynb",
      "provenance": [],
      "collapsed_sections": []
    },
    "kernelspec": {
      "name": "python3",
      "display_name": "Python 3"
    },
    "language_info": {
      "name": "python"
    }
  },
  "cells": [
    {
      "cell_type": "code",
      "metadata": {
        "colab": {
          "base_uri": "https://localhost:8080/"
        },
        "id": "-_SxkxHH3hIm",
        "outputId": "9c41bdf4-90bb-448e-affd-856bdceb09ab"
      },
      "source": [
        "from google.colab import drive          #allowing colab to have access to gdrive\n",
        "drive.mount('/content/gdrive')\n",
        "\n"
      ],
      "execution_count": null,
      "outputs": [
        {
          "output_type": "stream",
          "name": "stdout",
          "text": [
            "Mounted at /content/gdrive\n"
          ]
        }
      ]
    },
    {
      "cell_type": "code",
      "metadata": {
        "id": "hwLIaAekXbGd"
      },
      "source": [
        "import pandas as pd"
      ],
      "execution_count": null,
      "outputs": []
    },
    {
      "cell_type": "code",
      "metadata": {
        "colab": {
          "base_uri": "https://localhost:8080/",
          "height": 203
        },
        "id": "lAICOu2jCGIa",
        "outputId": "be30a706-de89-4c7d-bb41-8d6fd37504a8"
      },
      "source": [
        "data={\n",
        "    'Pens' : [1,3,5,7,9],        #creating a dataframe\n",
        "    'Books': [9,1,2,3,4]\n",
        "}\n",
        "table=pd.DataFrame(data);\n",
        "table\n"
      ],
      "execution_count": null,
      "outputs": [
        {
          "output_type": "execute_result",
          "data": {
            "text/html": [
              "<div>\n",
              "<style scoped>\n",
              "    .dataframe tbody tr th:only-of-type {\n",
              "        vertical-align: middle;\n",
              "    }\n",
              "\n",
              "    .dataframe tbody tr th {\n",
              "        vertical-align: top;\n",
              "    }\n",
              "\n",
              "    .dataframe thead th {\n",
              "        text-align: right;\n",
              "    }\n",
              "</style>\n",
              "<table border=\"1\" class=\"dataframe\">\n",
              "  <thead>\n",
              "    <tr style=\"text-align: right;\">\n",
              "      <th></th>\n",
              "      <th>Pens</th>\n",
              "      <th>Books</th>\n",
              "    </tr>\n",
              "  </thead>\n",
              "  <tbody>\n",
              "    <tr>\n",
              "      <th>0</th>\n",
              "      <td>1</td>\n",
              "      <td>9</td>\n",
              "    </tr>\n",
              "    <tr>\n",
              "      <th>1</th>\n",
              "      <td>3</td>\n",
              "      <td>1</td>\n",
              "    </tr>\n",
              "    <tr>\n",
              "      <th>2</th>\n",
              "      <td>5</td>\n",
              "      <td>2</td>\n",
              "    </tr>\n",
              "    <tr>\n",
              "      <th>3</th>\n",
              "      <td>7</td>\n",
              "      <td>3</td>\n",
              "    </tr>\n",
              "    <tr>\n",
              "      <th>4</th>\n",
              "      <td>9</td>\n",
              "      <td>4</td>\n",
              "    </tr>\n",
              "  </tbody>\n",
              "</table>\n",
              "</div>"
            ],
            "text/plain": [
              "   Pens  Books\n",
              "0     1      9\n",
              "1     3      1\n",
              "2     5      2\n",
              "3     7      3\n",
              "4     9      4"
            ]
          },
          "metadata": {},
          "execution_count": 17
        }
      ]
    },
    {
      "cell_type": "code",
      "metadata": {
        "colab": {
          "base_uri": "https://localhost:8080/"
        },
        "id": "5l9Hu0hxDLRe",
        "outputId": "d7ed4edc-7e1c-44cf-fd0f-41360762a812"
      },
      "source": [
        "print(table)       #different from not 'printing'  (?)"
      ],
      "execution_count": null,
      "outputs": [
        {
          "output_type": "stream",
          "name": "stdout",
          "text": [
            "   Pens  Books\n",
            "0     1      9\n",
            "1     3      1\n",
            "2     5      2\n",
            "3     7      3\n",
            "4     9      4\n"
          ]
        }
      ]
    },
    {
      "cell_type": "code",
      "metadata": {
        "id": "JkMlBtXXXdDI"
      },
      "source": [
        "Dataset_folder='/content/gdrive/MyDrive/AI/PANDAS/'"
      ],
      "execution_count": null,
      "outputs": []
    },
    {
      "cell_type": "code",
      "metadata": {
        "id": "-tgjKomlXexq"
      },
      "source": [
        "movies_dataset = pd.read_csv(Dataset_folder+\"IMDB-Movie-Data.csv\", index_col=\"Title\")     #to read the file of a specific datatype\n",
        "                                                                                     #instead of 0,1,.... index of column is set as its title"
      ],
      "execution_count": null,
      "outputs": []
    },
    {
      "cell_type": "code",
      "metadata": {
        "id": "IJudbJnoYdRr",
        "colab": {
          "base_uri": "https://localhost:8080/",
          "height": 382
        },
        "outputId": "3e54524e-f544-49b4-9519-bb23b845ff12"
      },
      "source": [
        "movies_dataset.head(6)      #shows the dataframe of specified number of records (datasetname.head(no of records))"
      ],
      "execution_count": null,
      "outputs": [
        {
          "output_type": "execute_result",
          "data": {
            "text/html": [
              "<div>\n",
              "<style scoped>\n",
              "    .dataframe tbody tr th:only-of-type {\n",
              "        vertical-align: middle;\n",
              "    }\n",
              "\n",
              "    .dataframe tbody tr th {\n",
              "        vertical-align: top;\n",
              "    }\n",
              "\n",
              "    .dataframe thead th {\n",
              "        text-align: right;\n",
              "    }\n",
              "</style>\n",
              "<table border=\"1\" class=\"dataframe\">\n",
              "  <thead>\n",
              "    <tr style=\"text-align: right;\">\n",
              "      <th></th>\n",
              "      <th>Rank</th>\n",
              "      <th>Genre</th>\n",
              "      <th>Description</th>\n",
              "      <th>Director</th>\n",
              "      <th>Actors</th>\n",
              "      <th>Year</th>\n",
              "      <th>Runtime (Minutes)</th>\n",
              "      <th>Rating</th>\n",
              "      <th>Votes</th>\n",
              "      <th>Revenue (Millions)</th>\n",
              "      <th>Metascore</th>\n",
              "    </tr>\n",
              "    <tr>\n",
              "      <th>Title</th>\n",
              "      <th></th>\n",
              "      <th></th>\n",
              "      <th></th>\n",
              "      <th></th>\n",
              "      <th></th>\n",
              "      <th></th>\n",
              "      <th></th>\n",
              "      <th></th>\n",
              "      <th></th>\n",
              "      <th></th>\n",
              "      <th></th>\n",
              "    </tr>\n",
              "  </thead>\n",
              "  <tbody>\n",
              "    <tr>\n",
              "      <th>Guardians of the Galaxy</th>\n",
              "      <td>1</td>\n",
              "      <td>Action,Adventure,Sci-Fi</td>\n",
              "      <td>A group of intergalactic criminals are forced ...</td>\n",
              "      <td>James Gunn</td>\n",
              "      <td>Chris Pratt, Vin Diesel, Bradley Cooper, Zoe S...</td>\n",
              "      <td>2014</td>\n",
              "      <td>121</td>\n",
              "      <td>8.1</td>\n",
              "      <td>757074</td>\n",
              "      <td>333.13</td>\n",
              "      <td>76.0</td>\n",
              "    </tr>\n",
              "    <tr>\n",
              "      <th>Prometheus</th>\n",
              "      <td>2</td>\n",
              "      <td>Adventure,Mystery,Sci-Fi</td>\n",
              "      <td>Following clues to the origin of mankind, a te...</td>\n",
              "      <td>Ridley Scott</td>\n",
              "      <td>Noomi Rapace, Logan Marshall-Green, Michael Fa...</td>\n",
              "      <td>2012</td>\n",
              "      <td>124</td>\n",
              "      <td>7.0</td>\n",
              "      <td>485820</td>\n",
              "      <td>126.46</td>\n",
              "      <td>65.0</td>\n",
              "    </tr>\n",
              "    <tr>\n",
              "      <th>Split</th>\n",
              "      <td>3</td>\n",
              "      <td>Horror,Thriller</td>\n",
              "      <td>Three girls are kidnapped by a man with a diag...</td>\n",
              "      <td>M. Night Shyamalan</td>\n",
              "      <td>James McAvoy, Anya Taylor-Joy, Haley Lu Richar...</td>\n",
              "      <td>2016</td>\n",
              "      <td>117</td>\n",
              "      <td>7.3</td>\n",
              "      <td>157606</td>\n",
              "      <td>138.12</td>\n",
              "      <td>62.0</td>\n",
              "    </tr>\n",
              "    <tr>\n",
              "      <th>Sing</th>\n",
              "      <td>4</td>\n",
              "      <td>Animation,Comedy,Family</td>\n",
              "      <td>In a city of humanoid animals, a hustling thea...</td>\n",
              "      <td>Christophe Lourdelet</td>\n",
              "      <td>Matthew McConaughey,Reese Witherspoon, Seth Ma...</td>\n",
              "      <td>2016</td>\n",
              "      <td>108</td>\n",
              "      <td>7.2</td>\n",
              "      <td>60545</td>\n",
              "      <td>270.32</td>\n",
              "      <td>59.0</td>\n",
              "    </tr>\n",
              "    <tr>\n",
              "      <th>Suicide Squad</th>\n",
              "      <td>5</td>\n",
              "      <td>Action,Adventure,Fantasy</td>\n",
              "      <td>A secret government agency recruits some of th...</td>\n",
              "      <td>David Ayer</td>\n",
              "      <td>Will Smith, Jared Leto, Margot Robbie, Viola D...</td>\n",
              "      <td>2016</td>\n",
              "      <td>123</td>\n",
              "      <td>6.2</td>\n",
              "      <td>393727</td>\n",
              "      <td>325.02</td>\n",
              "      <td>40.0</td>\n",
              "    </tr>\n",
              "    <tr>\n",
              "      <th>The Great Wall</th>\n",
              "      <td>6</td>\n",
              "      <td>Action,Adventure,Fantasy</td>\n",
              "      <td>European mercenaries searching for black powde...</td>\n",
              "      <td>Yimou Zhang</td>\n",
              "      <td>Matt Damon, Tian Jing, Willem Dafoe, Andy Lau</td>\n",
              "      <td>2016</td>\n",
              "      <td>103</td>\n",
              "      <td>6.1</td>\n",
              "      <td>56036</td>\n",
              "      <td>45.13</td>\n",
              "      <td>42.0</td>\n",
              "    </tr>\n",
              "  </tbody>\n",
              "</table>\n",
              "</div>"
            ],
            "text/plain": [
              "                         Rank  ... Metascore\n",
              "Title                          ...          \n",
              "Guardians of the Galaxy     1  ...      76.0\n",
              "Prometheus                  2  ...      65.0\n",
              "Split                       3  ...      62.0\n",
              "Sing                        4  ...      59.0\n",
              "Suicide Squad               5  ...      40.0\n",
              "The Great Wall              6  ...      42.0\n",
              "\n",
              "[6 rows x 11 columns]"
            ]
          },
          "metadata": {},
          "execution_count": 21
        }
      ]
    },
    {
      "cell_type": "code",
      "metadata": {
        "colab": {
          "base_uri": "https://localhost:8080/",
          "height": 382
        },
        "id": "rmZD4V0aEY-d",
        "outputId": "740588c1-fbd5-4c66-d366-905fc6eb2140"
      },
      "source": [
        "movies_dataset.tail(6)      #prints specified no of records from the end"
      ],
      "execution_count": null,
      "outputs": [
        {
          "output_type": "execute_result",
          "data": {
            "text/html": [
              "<div>\n",
              "<style scoped>\n",
              "    .dataframe tbody tr th:only-of-type {\n",
              "        vertical-align: middle;\n",
              "    }\n",
              "\n",
              "    .dataframe tbody tr th {\n",
              "        vertical-align: top;\n",
              "    }\n",
              "\n",
              "    .dataframe thead th {\n",
              "        text-align: right;\n",
              "    }\n",
              "</style>\n",
              "<table border=\"1\" class=\"dataframe\">\n",
              "  <thead>\n",
              "    <tr style=\"text-align: right;\">\n",
              "      <th></th>\n",
              "      <th>Rank</th>\n",
              "      <th>Genre</th>\n",
              "      <th>Description</th>\n",
              "      <th>Director</th>\n",
              "      <th>Actors</th>\n",
              "      <th>Year</th>\n",
              "      <th>Runtime (Minutes)</th>\n",
              "      <th>Rating</th>\n",
              "      <th>Votes</th>\n",
              "      <th>Revenue (Millions)</th>\n",
              "      <th>Metascore</th>\n",
              "    </tr>\n",
              "    <tr>\n",
              "      <th>Title</th>\n",
              "      <th></th>\n",
              "      <th></th>\n",
              "      <th></th>\n",
              "      <th></th>\n",
              "      <th></th>\n",
              "      <th></th>\n",
              "      <th></th>\n",
              "      <th></th>\n",
              "      <th></th>\n",
              "      <th></th>\n",
              "      <th></th>\n",
              "    </tr>\n",
              "  </thead>\n",
              "  <tbody>\n",
              "    <tr>\n",
              "      <th>Project X</th>\n",
              "      <td>995</td>\n",
              "      <td>Comedy</td>\n",
              "      <td>3 high school seniors throw a birthday party t...</td>\n",
              "      <td>Nima Nourizadeh</td>\n",
              "      <td>Thomas Mann, Oliver Cooper, Jonathan Daniel Br...</td>\n",
              "      <td>2012</td>\n",
              "      <td>88</td>\n",
              "      <td>6.7</td>\n",
              "      <td>164088</td>\n",
              "      <td>54.72</td>\n",
              "      <td>48.0</td>\n",
              "    </tr>\n",
              "    <tr>\n",
              "      <th>Secret in Their Eyes</th>\n",
              "      <td>996</td>\n",
              "      <td>Crime,Drama,Mystery</td>\n",
              "      <td>A tight-knit team of rising investigators, alo...</td>\n",
              "      <td>Billy Ray</td>\n",
              "      <td>Chiwetel Ejiofor, Nicole Kidman, Julia Roberts...</td>\n",
              "      <td>2015</td>\n",
              "      <td>111</td>\n",
              "      <td>6.2</td>\n",
              "      <td>27585</td>\n",
              "      <td>NaN</td>\n",
              "      <td>45.0</td>\n",
              "    </tr>\n",
              "    <tr>\n",
              "      <th>Hostel: Part II</th>\n",
              "      <td>997</td>\n",
              "      <td>Horror</td>\n",
              "      <td>Three American college students studying abroa...</td>\n",
              "      <td>Eli Roth</td>\n",
              "      <td>Lauren German, Heather Matarazzo, Bijou Philli...</td>\n",
              "      <td>2007</td>\n",
              "      <td>94</td>\n",
              "      <td>5.5</td>\n",
              "      <td>73152</td>\n",
              "      <td>17.54</td>\n",
              "      <td>46.0</td>\n",
              "    </tr>\n",
              "    <tr>\n",
              "      <th>Step Up 2: The Streets</th>\n",
              "      <td>998</td>\n",
              "      <td>Drama,Music,Romance</td>\n",
              "      <td>Romantic sparks occur between two dance studen...</td>\n",
              "      <td>Jon M. Chu</td>\n",
              "      <td>Robert Hoffman, Briana Evigan, Cassie Ventura,...</td>\n",
              "      <td>2008</td>\n",
              "      <td>98</td>\n",
              "      <td>6.2</td>\n",
              "      <td>70699</td>\n",
              "      <td>58.01</td>\n",
              "      <td>50.0</td>\n",
              "    </tr>\n",
              "    <tr>\n",
              "      <th>Search Party</th>\n",
              "      <td>999</td>\n",
              "      <td>Adventure,Comedy</td>\n",
              "      <td>A pair of friends embark on a mission to reuni...</td>\n",
              "      <td>Scot Armstrong</td>\n",
              "      <td>Adam Pally, T.J. Miller, Thomas Middleditch,Sh...</td>\n",
              "      <td>2014</td>\n",
              "      <td>93</td>\n",
              "      <td>5.6</td>\n",
              "      <td>4881</td>\n",
              "      <td>NaN</td>\n",
              "      <td>22.0</td>\n",
              "    </tr>\n",
              "    <tr>\n",
              "      <th>Nine Lives</th>\n",
              "      <td>1000</td>\n",
              "      <td>Comedy,Family,Fantasy</td>\n",
              "      <td>A stuffy businessman finds himself trapped ins...</td>\n",
              "      <td>Barry Sonnenfeld</td>\n",
              "      <td>Kevin Spacey, Jennifer Garner, Robbie Amell,Ch...</td>\n",
              "      <td>2016</td>\n",
              "      <td>87</td>\n",
              "      <td>5.3</td>\n",
              "      <td>12435</td>\n",
              "      <td>19.64</td>\n",
              "      <td>11.0</td>\n",
              "    </tr>\n",
              "  </tbody>\n",
              "</table>\n",
              "</div>"
            ],
            "text/plain": [
              "                        Rank  ... Metascore\n",
              "Title                         ...          \n",
              "Project X                995  ...      48.0\n",
              "Secret in Their Eyes     996  ...      45.0\n",
              "Hostel: Part II          997  ...      46.0\n",
              "Step Up 2: The Streets   998  ...      50.0\n",
              "Search Party             999  ...      22.0\n",
              "Nine Lives              1000  ...      11.0\n",
              "\n",
              "[6 rows x 11 columns]"
            ]
          },
          "metadata": {},
          "execution_count": 22
        }
      ]
    },
    {
      "cell_type": "code",
      "metadata": {
        "colab": {
          "base_uri": "https://localhost:8080/"
        },
        "id": "VmjmtBz5EkW5",
        "outputId": "99cf77c8-3e2f-43b6-f5fa-785953e26827"
      },
      "source": [
        "movies_dataset.shape        #prints no of rows and columns(starting from index 0)"
      ],
      "execution_count": null,
      "outputs": [
        {
          "output_type": "execute_result",
          "data": {
            "text/plain": [
              "(1000, 11)"
            ]
          },
          "metadata": {},
          "execution_count": 23
        }
      ]
    },
    {
      "cell_type": "code",
      "metadata": {
        "colab": {
          "base_uri": "https://localhost:8080/"
        },
        "id": "iur3zl2_E3Dt",
        "outputId": "c3208db5-4cfa-46b6-fbef-8d2b4b5ae746"
      },
      "source": [
        "movies_dataset.info              #shows a glimpse of the dataset "
      ],
      "execution_count": null,
      "outputs": [
        {
          "output_type": "execute_result",
          "data": {
            "text/plain": [
              "<bound method DataFrame.info of                          Rank  ... Metascore\n",
              "Title                          ...          \n",
              "Guardians of the Galaxy     1  ...      76.0\n",
              "Prometheus                  2  ...      65.0\n",
              "Split                       3  ...      62.0\n",
              "Sing                        4  ...      59.0\n",
              "Suicide Squad               5  ...      40.0\n",
              "...                       ...  ...       ...\n",
              "Secret in Their Eyes      996  ...      45.0\n",
              "Hostel: Part II           997  ...      46.0\n",
              "Step Up 2: The Streets    998  ...      50.0\n",
              "Search Party              999  ...      22.0\n",
              "Nine Lives               1000  ...      11.0\n",
              "\n",
              "[1000 rows x 11 columns]>"
            ]
          },
          "metadata": {},
          "execution_count": 24
        }
      ]
    },
    {
      "cell_type": "code",
      "metadata": {
        "id": "ECc4M4mRGHrS"
      },
      "source": [
        "movies_dataset = movies_dataset.drop_duplicates(keep = 'first')   #if keep='first' - it considers first value as unique and the rest as duplicates\n",
        "                                                                  #if keep='last' - it considers last value as unique and the rest as duplicates\n",
        "                                                                  #if keep='False' - it considers all the same values as duplicates\n"
      ],
      "execution_count": null,
      "outputs": []
    },
    {
      "cell_type": "code",
      "metadata": {
        "colab": {
          "base_uri": "https://localhost:8080/"
        },
        "id": "7ZoAovcPI1ZF",
        "outputId": "70cbff5c-a4d5-45aa-9dc8-6a5b409c5681"
      },
      "source": [
        "print(movies_dataset.columns)     #prints the column labels"
      ],
      "execution_count": null,
      "outputs": [
        {
          "output_type": "stream",
          "name": "stdout",
          "text": [
            "Index(['Rank', 'Genre', 'Description', 'Director', 'Actors', 'Year',\n",
            "       'Runtime (Minutes)', 'Rating', 'Votes', 'Revenue (Millions)',\n",
            "       'Metascore'],\n",
            "      dtype='object')\n"
          ]
        }
      ]
    },
    {
      "cell_type": "code",
      "metadata": {
        "colab": {
          "base_uri": "https://localhost:8080/"
        },
        "id": "IFs-GbtcJVTv",
        "outputId": "d8cf58a0-34e4-44f1-eec5-9f6176bc193f"
      },
      "source": [
        "movies_dataset.rename(columns={'Title':'Movie_Title', 'Actors':'Movie Actors'},inplace=True)     #to rename column labels(will be changed in output only if inplace=True)\n",
        "movies_dataset.columns"
      ],
      "execution_count": null,
      "outputs": [
        {
          "output_type": "execute_result",
          "data": {
            "text/plain": [
              "Index(['Rank', 'Genre', 'Description', 'Director', 'Movie Actors', 'Year',\n",
              "       'Runtime (Minutes)', 'Rating', 'Votes', 'Revenue (Millions)',\n",
              "       'Metascore'],\n",
              "      dtype='object')"
            ]
          },
          "metadata": {},
          "execution_count": 7
        }
      ]
    },
    {
      "cell_type": "code",
      "metadata": {
        "colab": {
          "base_uri": "https://localhost:8080/",
          "height": 447
        },
        "id": "BBt35OktLbml",
        "outputId": "6c1a50f3-21c6-4130-ed16-9b0e928d46a5"
      },
      "source": [
        "movies_dataset.isnull()       #overview of whether null values exist"
      ],
      "execution_count": null,
      "outputs": [
        {
          "output_type": "execute_result",
          "data": {
            "text/html": [
              "<div>\n",
              "<style scoped>\n",
              "    .dataframe tbody tr th:only-of-type {\n",
              "        vertical-align: middle;\n",
              "    }\n",
              "\n",
              "    .dataframe tbody tr th {\n",
              "        vertical-align: top;\n",
              "    }\n",
              "\n",
              "    .dataframe thead th {\n",
              "        text-align: right;\n",
              "    }\n",
              "</style>\n",
              "<table border=\"1\" class=\"dataframe\">\n",
              "  <thead>\n",
              "    <tr style=\"text-align: right;\">\n",
              "      <th></th>\n",
              "      <th>Rank</th>\n",
              "      <th>Genre</th>\n",
              "      <th>Description</th>\n",
              "      <th>Director</th>\n",
              "      <th>Movie Actors</th>\n",
              "      <th>Year</th>\n",
              "      <th>Runtime (Minutes)</th>\n",
              "      <th>Rating</th>\n",
              "      <th>Votes</th>\n",
              "      <th>Revenue (Millions)</th>\n",
              "      <th>Metascore</th>\n",
              "    </tr>\n",
              "    <tr>\n",
              "      <th>Title</th>\n",
              "      <th></th>\n",
              "      <th></th>\n",
              "      <th></th>\n",
              "      <th></th>\n",
              "      <th></th>\n",
              "      <th></th>\n",
              "      <th></th>\n",
              "      <th></th>\n",
              "      <th></th>\n",
              "      <th></th>\n",
              "      <th></th>\n",
              "    </tr>\n",
              "  </thead>\n",
              "  <tbody>\n",
              "    <tr>\n",
              "      <th>Guardians of the Galaxy</th>\n",
              "      <td>False</td>\n",
              "      <td>False</td>\n",
              "      <td>False</td>\n",
              "      <td>False</td>\n",
              "      <td>False</td>\n",
              "      <td>False</td>\n",
              "      <td>False</td>\n",
              "      <td>False</td>\n",
              "      <td>False</td>\n",
              "      <td>False</td>\n",
              "      <td>False</td>\n",
              "    </tr>\n",
              "    <tr>\n",
              "      <th>Prometheus</th>\n",
              "      <td>False</td>\n",
              "      <td>False</td>\n",
              "      <td>False</td>\n",
              "      <td>False</td>\n",
              "      <td>False</td>\n",
              "      <td>False</td>\n",
              "      <td>False</td>\n",
              "      <td>False</td>\n",
              "      <td>False</td>\n",
              "      <td>False</td>\n",
              "      <td>False</td>\n",
              "    </tr>\n",
              "    <tr>\n",
              "      <th>Split</th>\n",
              "      <td>False</td>\n",
              "      <td>False</td>\n",
              "      <td>False</td>\n",
              "      <td>False</td>\n",
              "      <td>False</td>\n",
              "      <td>False</td>\n",
              "      <td>False</td>\n",
              "      <td>False</td>\n",
              "      <td>False</td>\n",
              "      <td>False</td>\n",
              "      <td>False</td>\n",
              "    </tr>\n",
              "    <tr>\n",
              "      <th>Sing</th>\n",
              "      <td>False</td>\n",
              "      <td>False</td>\n",
              "      <td>False</td>\n",
              "      <td>False</td>\n",
              "      <td>False</td>\n",
              "      <td>False</td>\n",
              "      <td>False</td>\n",
              "      <td>False</td>\n",
              "      <td>False</td>\n",
              "      <td>False</td>\n",
              "      <td>False</td>\n",
              "    </tr>\n",
              "    <tr>\n",
              "      <th>Suicide Squad</th>\n",
              "      <td>False</td>\n",
              "      <td>False</td>\n",
              "      <td>False</td>\n",
              "      <td>False</td>\n",
              "      <td>False</td>\n",
              "      <td>False</td>\n",
              "      <td>False</td>\n",
              "      <td>False</td>\n",
              "      <td>False</td>\n",
              "      <td>False</td>\n",
              "      <td>False</td>\n",
              "    </tr>\n",
              "    <tr>\n",
              "      <th>...</th>\n",
              "      <td>...</td>\n",
              "      <td>...</td>\n",
              "      <td>...</td>\n",
              "      <td>...</td>\n",
              "      <td>...</td>\n",
              "      <td>...</td>\n",
              "      <td>...</td>\n",
              "      <td>...</td>\n",
              "      <td>...</td>\n",
              "      <td>...</td>\n",
              "      <td>...</td>\n",
              "    </tr>\n",
              "    <tr>\n",
              "      <th>Secret in Their Eyes</th>\n",
              "      <td>False</td>\n",
              "      <td>False</td>\n",
              "      <td>False</td>\n",
              "      <td>False</td>\n",
              "      <td>False</td>\n",
              "      <td>False</td>\n",
              "      <td>False</td>\n",
              "      <td>False</td>\n",
              "      <td>False</td>\n",
              "      <td>True</td>\n",
              "      <td>False</td>\n",
              "    </tr>\n",
              "    <tr>\n",
              "      <th>Hostel: Part II</th>\n",
              "      <td>False</td>\n",
              "      <td>False</td>\n",
              "      <td>False</td>\n",
              "      <td>False</td>\n",
              "      <td>False</td>\n",
              "      <td>False</td>\n",
              "      <td>False</td>\n",
              "      <td>False</td>\n",
              "      <td>False</td>\n",
              "      <td>False</td>\n",
              "      <td>False</td>\n",
              "    </tr>\n",
              "    <tr>\n",
              "      <th>Step Up 2: The Streets</th>\n",
              "      <td>False</td>\n",
              "      <td>False</td>\n",
              "      <td>False</td>\n",
              "      <td>False</td>\n",
              "      <td>False</td>\n",
              "      <td>False</td>\n",
              "      <td>False</td>\n",
              "      <td>False</td>\n",
              "      <td>False</td>\n",
              "      <td>False</td>\n",
              "      <td>False</td>\n",
              "    </tr>\n",
              "    <tr>\n",
              "      <th>Search Party</th>\n",
              "      <td>False</td>\n",
              "      <td>False</td>\n",
              "      <td>False</td>\n",
              "      <td>False</td>\n",
              "      <td>False</td>\n",
              "      <td>False</td>\n",
              "      <td>False</td>\n",
              "      <td>False</td>\n",
              "      <td>False</td>\n",
              "      <td>True</td>\n",
              "      <td>False</td>\n",
              "    </tr>\n",
              "    <tr>\n",
              "      <th>Nine Lives</th>\n",
              "      <td>False</td>\n",
              "      <td>False</td>\n",
              "      <td>False</td>\n",
              "      <td>False</td>\n",
              "      <td>False</td>\n",
              "      <td>False</td>\n",
              "      <td>False</td>\n",
              "      <td>False</td>\n",
              "      <td>False</td>\n",
              "      <td>False</td>\n",
              "      <td>False</td>\n",
              "    </tr>\n",
              "  </tbody>\n",
              "</table>\n",
              "<p>1000 rows × 11 columns</p>\n",
              "</div>"
            ],
            "text/plain": [
              "                          Rank  Genre  ...  Revenue (Millions)  Metascore\n",
              "Title                                  ...                               \n",
              "Guardians of the Galaxy  False  False  ...               False      False\n",
              "Prometheus               False  False  ...               False      False\n",
              "Split                    False  False  ...               False      False\n",
              "Sing                     False  False  ...               False      False\n",
              "Suicide Squad            False  False  ...               False      False\n",
              "...                        ...    ...  ...                 ...        ...\n",
              "Secret in Their Eyes     False  False  ...                True      False\n",
              "Hostel: Part II          False  False  ...               False      False\n",
              "Step Up 2: The Streets   False  False  ...               False      False\n",
              "Search Party             False  False  ...                True      False\n",
              "Nine Lives               False  False  ...               False      False\n",
              "\n",
              "[1000 rows x 11 columns]"
            ]
          },
          "metadata": {},
          "execution_count": 35
        }
      ]
    },
    {
      "cell_type": "code",
      "metadata": {
        "colab": {
          "base_uri": "https://localhost:8080/"
        },
        "id": "uhAnihOJL69H",
        "outputId": "04ad9145-26c1-4eb2-d05b-672167ff718e"
      },
      "source": [
        "movies_dataset.isnull().sum()     #gives total null values of each columnlabel"
      ],
      "execution_count": null,
      "outputs": [
        {
          "output_type": "execute_result",
          "data": {
            "text/plain": [
              "Rank                    0\n",
              "Genre                   0\n",
              "Description             0\n",
              "Director                0\n",
              "Movie Actors            0\n",
              "Year                    0\n",
              "Runtime (Minutes)       0\n",
              "Rating                  0\n",
              "Votes                   0\n",
              "Revenue (Millions)    128\n",
              "Metascore              64\n",
              "dtype: int64"
            ]
          },
          "metadata": {},
          "execution_count": 41
        }
      ]
    },
    {
      "cell_type": "code",
      "metadata": {
        "colab": {
          "base_uri": "https://localhost:8080/"
        },
        "id": "aYP-Sy2-MW8d",
        "outputId": "58501af3-33ff-471e-e280-2f04f345f687"
      },
      "source": [
        "movies_dataset_modified1=movies_dataset.dropna(axis=0,how=\"any\",thresh=None,subset=None,inplace=False)     #if axis=0, drops rows with null values\n",
        "movies_dataset_modified1.shape "
      ],
      "execution_count": null,
      "outputs": [
        {
          "output_type": "execute_result",
          "data": {
            "text/plain": [
              "(838, 11)"
            ]
          },
          "metadata": {},
          "execution_count": 8
        }
      ]
    },
    {
      "cell_type": "code",
      "metadata": {
        "colab": {
          "base_uri": "https://localhost:8080/"
        },
        "id": "v5EcseSCOAPS",
        "outputId": "96a27617-bf6c-4b4b-82ed-2b1cbc88e1ff"
      },
      "source": [
        "movies_dataset_modified2=movies_dataset.dropna(axis=1)   #if axis=1, drops columns with null vlaues\n",
        "movies_dataset_modified2.shape"
      ],
      "execution_count": null,
      "outputs": [
        {
          "output_type": "execute_result",
          "data": {
            "text/plain": [
              "(1000, 9)"
            ]
          },
          "metadata": {},
          "execution_count": 9
        }
      ]
    },
    {
      "cell_type": "code",
      "metadata": {
        "colab": {
          "base_uri": "https://localhost:8080/"
        },
        "id": "mixTfCEmOXya",
        "outputId": "6f3f1306-0357-455d-91a3-9a0319ad0e4f"
      },
      "source": [
        "revenue = movies_dataset['Revenue (Millions)']     #creates a smaller table with only values from given column & prints first 5 values of specified column label along with index\n",
        "revenue.head(5)"
      ],
      "execution_count": null,
      "outputs": [
        {
          "output_type": "execute_result",
          "data": {
            "text/plain": [
              "Title\n",
              "Guardians of the Galaxy    333.13\n",
              "Prometheus                 126.46\n",
              "Split                      138.12\n",
              "Sing                       270.32\n",
              "Suicide Squad              325.02\n",
              "Name: Revenue (Millions), dtype: float64"
            ]
          },
          "metadata": {},
          "execution_count": 10
        }
      ]
    },
    {
      "cell_type": "code",
      "metadata": {
        "colab": {
          "base_uri": "https://localhost:8080/"
        },
        "id": "VXguK6MpPW7p",
        "outputId": "b5243d6a-d8fe-46c3-c94a-25d55e45b397"
      },
      "source": [
        "actors=movies_dataset['Movie Actors']\n",
        "actors.tail(5)"
      ],
      "execution_count": null,
      "outputs": [
        {
          "output_type": "execute_result",
          "data": {
            "text/plain": [
              "Title\n",
              "Secret in Their Eyes      Chiwetel Ejiofor, Nicole Kidman, Julia Roberts...\n",
              "Hostel: Part II           Lauren German, Heather Matarazzo, Bijou Philli...\n",
              "Step Up 2: The Streets    Robert Hoffman, Briana Evigan, Cassie Ventura,...\n",
              "Search Party              Adam Pally, T.J. Miller, Thomas Middleditch,Sh...\n",
              "Nine Lives                Kevin Spacey, Jennifer Garner, Robbie Amell,Ch...\n",
              "Name: Movie Actors, dtype: object"
            ]
          },
          "metadata": {},
          "execution_count": 11
        }
      ]
    },
    {
      "cell_type": "code",
      "metadata": {
        "id": "ruzdl3SkPzmF",
        "colab": {
          "base_uri": "https://localhost:8080/"
        },
        "outputId": "4c50ef65-237a-4526-ee2e-c68466c702a0"
      },
      "source": [
        "meanRev = revenue.mean(0)\n",
        "meanRev"
      ],
      "execution_count": null,
      "outputs": [
        {
          "output_type": "execute_result",
          "data": {
            "text/plain": [
              "82.9563761467888"
            ]
          },
          "metadata": {},
          "execution_count": 15
        }
      ]
    },
    {
      "cell_type": "code",
      "metadata": {
        "colab": {
          "base_uri": "https://localhost:8080/",
          "height": 295
        },
        "id": "8dvH1Vixjcih",
        "outputId": "3a0506b0-62e0-4803-8c6f-950510a1008f"
      },
      "source": [
        "movies_dataset.describe()      #statistical description about the columns "
      ],
      "execution_count": null,
      "outputs": [
        {
          "output_type": "execute_result",
          "data": {
            "text/html": [
              "<div>\n",
              "<style scoped>\n",
              "    .dataframe tbody tr th:only-of-type {\n",
              "        vertical-align: middle;\n",
              "    }\n",
              "\n",
              "    .dataframe tbody tr th {\n",
              "        vertical-align: top;\n",
              "    }\n",
              "\n",
              "    .dataframe thead th {\n",
              "        text-align: right;\n",
              "    }\n",
              "</style>\n",
              "<table border=\"1\" class=\"dataframe\">\n",
              "  <thead>\n",
              "    <tr style=\"text-align: right;\">\n",
              "      <th></th>\n",
              "      <th>Rank</th>\n",
              "      <th>Year</th>\n",
              "      <th>Runtime (Minutes)</th>\n",
              "      <th>Rating</th>\n",
              "      <th>Votes</th>\n",
              "      <th>Revenue (Millions)</th>\n",
              "      <th>Metascore</th>\n",
              "    </tr>\n",
              "  </thead>\n",
              "  <tbody>\n",
              "    <tr>\n",
              "      <th>count</th>\n",
              "      <td>1000.000000</td>\n",
              "      <td>1000.000000</td>\n",
              "      <td>1000.000000</td>\n",
              "      <td>1000.000000</td>\n",
              "      <td>1.000000e+03</td>\n",
              "      <td>1000.000000</td>\n",
              "      <td>936.000000</td>\n",
              "    </tr>\n",
              "    <tr>\n",
              "      <th>mean</th>\n",
              "      <td>500.500000</td>\n",
              "      <td>2012.783000</td>\n",
              "      <td>113.172000</td>\n",
              "      <td>6.723200</td>\n",
              "      <td>1.698083e+05</td>\n",
              "      <td>82.956376</td>\n",
              "      <td>58.985043</td>\n",
              "    </tr>\n",
              "    <tr>\n",
              "      <th>std</th>\n",
              "      <td>288.819436</td>\n",
              "      <td>3.205962</td>\n",
              "      <td>18.810908</td>\n",
              "      <td>0.945429</td>\n",
              "      <td>1.887626e+05</td>\n",
              "      <td>96.412043</td>\n",
              "      <td>17.194757</td>\n",
              "    </tr>\n",
              "    <tr>\n",
              "      <th>min</th>\n",
              "      <td>1.000000</td>\n",
              "      <td>2006.000000</td>\n",
              "      <td>66.000000</td>\n",
              "      <td>1.900000</td>\n",
              "      <td>6.100000e+01</td>\n",
              "      <td>0.000000</td>\n",
              "      <td>11.000000</td>\n",
              "    </tr>\n",
              "    <tr>\n",
              "      <th>25%</th>\n",
              "      <td>250.750000</td>\n",
              "      <td>2010.000000</td>\n",
              "      <td>100.000000</td>\n",
              "      <td>6.200000</td>\n",
              "      <td>3.630900e+04</td>\n",
              "      <td>17.442500</td>\n",
              "      <td>47.000000</td>\n",
              "    </tr>\n",
              "    <tr>\n",
              "      <th>50%</th>\n",
              "      <td>500.500000</td>\n",
              "      <td>2014.000000</td>\n",
              "      <td>111.000000</td>\n",
              "      <td>6.800000</td>\n",
              "      <td>1.107990e+05</td>\n",
              "      <td>60.375000</td>\n",
              "      <td>59.500000</td>\n",
              "    </tr>\n",
              "    <tr>\n",
              "      <th>75%</th>\n",
              "      <td>750.250000</td>\n",
              "      <td>2016.000000</td>\n",
              "      <td>123.000000</td>\n",
              "      <td>7.400000</td>\n",
              "      <td>2.399098e+05</td>\n",
              "      <td>99.177500</td>\n",
              "      <td>72.000000</td>\n",
              "    </tr>\n",
              "    <tr>\n",
              "      <th>max</th>\n",
              "      <td>1000.000000</td>\n",
              "      <td>2016.000000</td>\n",
              "      <td>191.000000</td>\n",
              "      <td>9.000000</td>\n",
              "      <td>1.791916e+06</td>\n",
              "      <td>936.630000</td>\n",
              "      <td>100.000000</td>\n",
              "    </tr>\n",
              "  </tbody>\n",
              "</table>\n",
              "</div>"
            ],
            "text/plain": [
              "              Rank         Year  ...  Revenue (Millions)   Metascore\n",
              "count  1000.000000  1000.000000  ...         1000.000000  936.000000\n",
              "mean    500.500000  2012.783000  ...           82.956376   58.985043\n",
              "std     288.819436     3.205962  ...           96.412043   17.194757\n",
              "min       1.000000  2006.000000  ...            0.000000   11.000000\n",
              "25%     250.750000  2010.000000  ...           17.442500   47.000000\n",
              "50%     500.500000  2014.000000  ...           60.375000   59.500000\n",
              "75%     750.250000  2016.000000  ...           99.177500   72.000000\n",
              "max    1000.000000  2016.000000  ...          936.630000  100.000000\n",
              "\n",
              "[8 rows x 7 columns]"
            ]
          },
          "metadata": {},
          "execution_count": 17
        }
      ]
    },
    {
      "cell_type": "code",
      "metadata": {
        "colab": {
          "base_uri": "https://localhost:8080/"
        },
        "id": "B_36_RdOkGmU",
        "outputId": "6c21b724-1541-49e0-ec14-76e8d8619b14"
      },
      "source": [
        "movies_dataset['Year'].value_counts()      #counts the various different values from the specified column"
      ],
      "execution_count": null,
      "outputs": [
        {
          "output_type": "execute_result",
          "data": {
            "text/plain": [
              "2016    297\n",
              "2015    127\n",
              "2014     98\n",
              "2013     91\n",
              "2012     64\n",
              "2011     63\n",
              "2010     60\n",
              "2007     53\n",
              "2008     52\n",
              "2009     51\n",
              "2006     44\n",
              "Name: Year, dtype: int64"
            ]
          },
          "metadata": {},
          "execution_count": 18
        }
      ]
    },
    {
      "cell_type": "code",
      "metadata": {
        "colab": {
          "base_uri": "https://localhost:8080/"
        },
        "id": "PSICefh4mP0i",
        "outputId": "7c82169f-5497-4f01-c097-d241bde5cdc2"
      },
      "source": [
        "movies_dataset.loc['Suicide Squad']     #gives information about the specified index(could be keyword or number)"
      ],
      "execution_count": null,
      "outputs": [
        {
          "output_type": "execute_result",
          "data": {
            "text/plain": [
              "Rank                                                                  5\n",
              "Genre                                          Action,Adventure,Fantasy\n",
              "Description           A secret government agency recruits some of th...\n",
              "Director                                                     David Ayer\n",
              "Movie Actors          Will Smith, Jared Leto, Margot Robbie, Viola D...\n",
              "Year                                                               2016\n",
              "Runtime (Minutes)                                                   123\n",
              "Rating                                                              6.2\n",
              "Votes                                                            393727\n",
              "Revenue (Millions)                                               325.02\n",
              "Metascore                                                            40\n",
              "Name: Suicide Squad, dtype: object"
            ]
          },
          "metadata": {},
          "execution_count": 19
        }
      ]
    },
    {
      "cell_type": "code",
      "metadata": {
        "colab": {
          "base_uri": "https://localhost:8080/"
        },
        "id": "4CZceXQJnsR6",
        "outputId": "6532e283-544f-4f3b-a4e6-54dbd7520e7c"
      },
      "source": [
        "movies_dataset.iloc[4]    #if using index no, use iloc "
      ],
      "execution_count": null,
      "outputs": [
        {
          "output_type": "execute_result",
          "data": {
            "text/plain": [
              "Rank                                                                  5\n",
              "Genre                                          Action,Adventure,Fantasy\n",
              "Description           A secret government agency recruits some of th...\n",
              "Director                                                     David Ayer\n",
              "Movie Actors          Will Smith, Jared Leto, Margot Robbie, Viola D...\n",
              "Year                                                               2016\n",
              "Runtime (Minutes)                                                   123\n",
              "Rating                                                              6.2\n",
              "Votes                                                            393727\n",
              "Revenue (Millions)                                               325.02\n",
              "Metascore                                                            40\n",
              "Name: Suicide Squad, dtype: object"
            ]
          },
          "metadata": {},
          "execution_count": 20
        }
      ]
    },
    {
      "cell_type": "code",
      "metadata": {
        "colab": {
          "base_uri": "https://localhost:8080/",
          "height": 287
        },
        "id": "cFq8G1N8n_WM",
        "outputId": "6c469b99-f7be-4751-f2bf-3d04fe6be27c"
      },
      "source": [
        "movies_dataset.iloc[2:6]            #gives a subset of the table from specified range"
      ],
      "execution_count": null,
      "outputs": [
        {
          "output_type": "execute_result",
          "data": {
            "text/html": [
              "<div>\n",
              "<style scoped>\n",
              "    .dataframe tbody tr th:only-of-type {\n",
              "        vertical-align: middle;\n",
              "    }\n",
              "\n",
              "    .dataframe tbody tr th {\n",
              "        vertical-align: top;\n",
              "    }\n",
              "\n",
              "    .dataframe thead th {\n",
              "        text-align: right;\n",
              "    }\n",
              "</style>\n",
              "<table border=\"1\" class=\"dataframe\">\n",
              "  <thead>\n",
              "    <tr style=\"text-align: right;\">\n",
              "      <th></th>\n",
              "      <th>Rank</th>\n",
              "      <th>Genre</th>\n",
              "      <th>Description</th>\n",
              "      <th>Director</th>\n",
              "      <th>Movie Actors</th>\n",
              "      <th>Year</th>\n",
              "      <th>Runtime (Minutes)</th>\n",
              "      <th>Rating</th>\n",
              "      <th>Votes</th>\n",
              "      <th>Revenue (Millions)</th>\n",
              "      <th>Metascore</th>\n",
              "    </tr>\n",
              "    <tr>\n",
              "      <th>Title</th>\n",
              "      <th></th>\n",
              "      <th></th>\n",
              "      <th></th>\n",
              "      <th></th>\n",
              "      <th></th>\n",
              "      <th></th>\n",
              "      <th></th>\n",
              "      <th></th>\n",
              "      <th></th>\n",
              "      <th></th>\n",
              "      <th></th>\n",
              "    </tr>\n",
              "  </thead>\n",
              "  <tbody>\n",
              "    <tr>\n",
              "      <th>Split</th>\n",
              "      <td>3</td>\n",
              "      <td>Horror,Thriller</td>\n",
              "      <td>Three girls are kidnapped by a man with a diag...</td>\n",
              "      <td>M. Night Shyamalan</td>\n",
              "      <td>James McAvoy, Anya Taylor-Joy, Haley Lu Richar...</td>\n",
              "      <td>2016</td>\n",
              "      <td>117</td>\n",
              "      <td>7.3</td>\n",
              "      <td>157606</td>\n",
              "      <td>138.12</td>\n",
              "      <td>62.0</td>\n",
              "    </tr>\n",
              "    <tr>\n",
              "      <th>Sing</th>\n",
              "      <td>4</td>\n",
              "      <td>Animation,Comedy,Family</td>\n",
              "      <td>In a city of humanoid animals, a hustling thea...</td>\n",
              "      <td>Christophe Lourdelet</td>\n",
              "      <td>Matthew McConaughey,Reese Witherspoon, Seth Ma...</td>\n",
              "      <td>2016</td>\n",
              "      <td>108</td>\n",
              "      <td>7.2</td>\n",
              "      <td>60545</td>\n",
              "      <td>270.32</td>\n",
              "      <td>59.0</td>\n",
              "    </tr>\n",
              "    <tr>\n",
              "      <th>Suicide Squad</th>\n",
              "      <td>5</td>\n",
              "      <td>Action,Adventure,Fantasy</td>\n",
              "      <td>A secret government agency recruits some of th...</td>\n",
              "      <td>David Ayer</td>\n",
              "      <td>Will Smith, Jared Leto, Margot Robbie, Viola D...</td>\n",
              "      <td>2016</td>\n",
              "      <td>123</td>\n",
              "      <td>6.2</td>\n",
              "      <td>393727</td>\n",
              "      <td>325.02</td>\n",
              "      <td>40.0</td>\n",
              "    </tr>\n",
              "    <tr>\n",
              "      <th>The Great Wall</th>\n",
              "      <td>6</td>\n",
              "      <td>Action,Adventure,Fantasy</td>\n",
              "      <td>European mercenaries searching for black powde...</td>\n",
              "      <td>Yimou Zhang</td>\n",
              "      <td>Matt Damon, Tian Jing, Willem Dafoe, Andy Lau</td>\n",
              "      <td>2016</td>\n",
              "      <td>103</td>\n",
              "      <td>6.1</td>\n",
              "      <td>56036</td>\n",
              "      <td>45.13</td>\n",
              "      <td>42.0</td>\n",
              "    </tr>\n",
              "  </tbody>\n",
              "</table>\n",
              "</div>"
            ],
            "text/plain": [
              "                Rank                     Genre  ... Revenue (Millions) Metascore\n",
              "Title                                           ...                             \n",
              "Split              3           Horror,Thriller  ...             138.12      62.0\n",
              "Sing               4   Animation,Comedy,Family  ...             270.32      59.0\n",
              "Suicide Squad      5  Action,Adventure,Fantasy  ...             325.02      40.0\n",
              "The Great Wall     6  Action,Adventure,Fantasy  ...              45.13      42.0\n",
              "\n",
              "[4 rows x 11 columns]"
            ]
          },
          "metadata": {},
          "execution_count": 21
        }
      ]
    },
    {
      "cell_type": "code",
      "metadata": {
        "colab": {
          "base_uri": "https://localhost:8080/"
        },
        "id": "7-xA-X9voZ6B",
        "outputId": "6c9961e7-fb58-459f-c74c-fb648c6118c2"
      },
      "source": [
        "ratings=movies_dataset['Rating']      #prints ratings along with index\n",
        "ratings"
      ],
      "execution_count": null,
      "outputs": [
        {
          "output_type": "execute_result",
          "data": {
            "text/plain": [
              "Title\n",
              "Guardians of the Galaxy    8.1\n",
              "Prometheus                 7.0\n",
              "Split                      7.3\n",
              "Sing                       7.2\n",
              "Suicide Squad              6.2\n",
              "                          ... \n",
              "Secret in Their Eyes       6.2\n",
              "Hostel: Part II            5.5\n",
              "Step Up 2: The Streets     6.2\n",
              "Search Party               5.6\n",
              "Nine Lives                 5.3\n",
              "Name: Rating, Length: 1000, dtype: float64"
            ]
          },
          "metadata": {},
          "execution_count": 23
        }
      ]
    },
    {
      "cell_type": "code",
      "metadata": {
        "colab": {
          "base_uri": "https://localhost:8080/"
        },
        "id": "KuFkKfd6o9-7",
        "outputId": "1d9deb52-fbe7-4350-9d85-00a5c350f174"
      },
      "source": [
        "ratings[ratings.gt(9)]         #no ratings greater than 9 exist"
      ],
      "execution_count": null,
      "outputs": [
        {
          "output_type": "execute_result",
          "data": {
            "text/plain": [
              "Series([], Name: Rating, dtype: float64)"
            ]
          },
          "metadata": {},
          "execution_count": 25
        }
      ]
    },
    {
      "cell_type": "code",
      "metadata": {
        "colab": {
          "base_uri": "https://localhost:8080/"
        },
        "id": "OlS0jpO0pMy8",
        "outputId": "068e2b50-dd8f-4621-ec5b-a7c79b03a978"
      },
      "source": [
        "ratings[ratings.gt(8.5)]     #from ratings table, displays ratings greater than 8.5"
      ],
      "execution_count": null,
      "outputs": [
        {
          "output_type": "execute_result",
          "data": {
            "text/plain": [
              "Title\n",
              "Interstellar        8.6\n",
              "The Dark Knight     9.0\n",
              "Inception           8.8\n",
              "Kimi no na wa       8.6\n",
              "Dangal              8.8\n",
              "The Intouchables    8.6\n",
              "Name: Rating, dtype: float64"
            ]
          },
          "metadata": {},
          "execution_count": 26
        }
      ]
    },
    {
      "cell_type": "code",
      "metadata": {
        "colab": {
          "base_uri": "https://localhost:8080/",
          "height": 239
        },
        "id": "MODB0IXwpYW9",
        "outputId": "b0a07baa-856e-4fda-8101-d88a5a1ae56c"
      },
      "source": [
        "Edgar_movies=movies_dataset[movies_dataset['Director']=='Edgar Wright']    #using conditions\n",
        "Edgar_movies"
      ],
      "execution_count": null,
      "outputs": [
        {
          "output_type": "execute_result",
          "data": {
            "text/html": [
              "<div>\n",
              "<style scoped>\n",
              "    .dataframe tbody tr th:only-of-type {\n",
              "        vertical-align: middle;\n",
              "    }\n",
              "\n",
              "    .dataframe tbody tr th {\n",
              "        vertical-align: top;\n",
              "    }\n",
              "\n",
              "    .dataframe thead th {\n",
              "        text-align: right;\n",
              "    }\n",
              "</style>\n",
              "<table border=\"1\" class=\"dataframe\">\n",
              "  <thead>\n",
              "    <tr style=\"text-align: right;\">\n",
              "      <th></th>\n",
              "      <th>Rank</th>\n",
              "      <th>Genre</th>\n",
              "      <th>Description</th>\n",
              "      <th>Director</th>\n",
              "      <th>Movie Actors</th>\n",
              "      <th>Year</th>\n",
              "      <th>Runtime (Minutes)</th>\n",
              "      <th>Rating</th>\n",
              "      <th>Votes</th>\n",
              "      <th>Revenue (Millions)</th>\n",
              "      <th>Metascore</th>\n",
              "    </tr>\n",
              "    <tr>\n",
              "      <th>Title</th>\n",
              "      <th></th>\n",
              "      <th></th>\n",
              "      <th></th>\n",
              "      <th></th>\n",
              "      <th></th>\n",
              "      <th></th>\n",
              "      <th></th>\n",
              "      <th></th>\n",
              "      <th></th>\n",
              "      <th></th>\n",
              "      <th></th>\n",
              "    </tr>\n",
              "  </thead>\n",
              "  <tbody>\n",
              "    <tr>\n",
              "      <th>Scott Pilgrim vs. the World</th>\n",
              "      <td>159</td>\n",
              "      <td>Action,Comedy,Fantasy</td>\n",
              "      <td>Scott Pilgrim must defeat his new girlfriend's...</td>\n",
              "      <td>Edgar Wright</td>\n",
              "      <td>Michael Cera, Mary Elizabeth Winstead, Kieran ...</td>\n",
              "      <td>2010</td>\n",
              "      <td>112</td>\n",
              "      <td>7.5</td>\n",
              "      <td>291457</td>\n",
              "      <td>31.49</td>\n",
              "      <td>69.0</td>\n",
              "    </tr>\n",
              "    <tr>\n",
              "      <th>Hot Fuzz</th>\n",
              "      <td>160</td>\n",
              "      <td>Action,Comedy,Mystery</td>\n",
              "      <td>Exceptional London cop Nicholas Angel is invol...</td>\n",
              "      <td>Edgar Wright</td>\n",
              "      <td>Simon Pegg, Nick Frost, Martin Freeman, Bill N...</td>\n",
              "      <td>2007</td>\n",
              "      <td>121</td>\n",
              "      <td>7.9</td>\n",
              "      <td>373244</td>\n",
              "      <td>23.62</td>\n",
              "      <td>81.0</td>\n",
              "    </tr>\n",
              "    <tr>\n",
              "      <th>The World's End</th>\n",
              "      <td>800</td>\n",
              "      <td>Action,Comedy,Sci-Fi</td>\n",
              "      <td>Five friends who reunite in an attempt to top ...</td>\n",
              "      <td>Edgar Wright</td>\n",
              "      <td>Simon Pegg, Nick Frost, Martin Freeman, Rosamu...</td>\n",
              "      <td>2013</td>\n",
              "      <td>109</td>\n",
              "      <td>7.0</td>\n",
              "      <td>199813</td>\n",
              "      <td>26.00</td>\n",
              "      <td>81.0</td>\n",
              "    </tr>\n",
              "  </tbody>\n",
              "</table>\n",
              "</div>"
            ],
            "text/plain": [
              "                             Rank  ... Metascore\n",
              "Title                              ...          \n",
              "Scott Pilgrim vs. the World   159  ...      69.0\n",
              "Hot Fuzz                      160  ...      81.0\n",
              "The World's End               800  ...      81.0\n",
              "\n",
              "[3 rows x 11 columns]"
            ]
          },
          "metadata": {},
          "execution_count": 27
        }
      ]
    },
    {
      "cell_type": "code",
      "metadata": {
        "colab": {
          "base_uri": "https://localhost:8080/",
          "height": 1000
        },
        "id": "cR-eMV7nqXVf",
        "outputId": "b04bcea2-e79a-427e-f020-24e0236247b2"
      },
      "source": [
        "a=movies_dataset[(movies_dataset['Metascore']>70) & (movies_dataset['Year']==2014)]\n",
        "a"
      ],
      "execution_count": null,
      "outputs": [
        {
          "output_type": "execute_result",
          "data": {
            "text/html": [
              "<div>\n",
              "<style scoped>\n",
              "    .dataframe tbody tr th:only-of-type {\n",
              "        vertical-align: middle;\n",
              "    }\n",
              "\n",
              "    .dataframe tbody tr th {\n",
              "        vertical-align: top;\n",
              "    }\n",
              "\n",
              "    .dataframe thead th {\n",
              "        text-align: right;\n",
              "    }\n",
              "</style>\n",
              "<table border=\"1\" class=\"dataframe\">\n",
              "  <thead>\n",
              "    <tr style=\"text-align: right;\">\n",
              "      <th></th>\n",
              "      <th>Rank</th>\n",
              "      <th>Genre</th>\n",
              "      <th>Description</th>\n",
              "      <th>Director</th>\n",
              "      <th>Movie Actors</th>\n",
              "      <th>Year</th>\n",
              "      <th>Runtime (Minutes)</th>\n",
              "      <th>Rating</th>\n",
              "      <th>Votes</th>\n",
              "      <th>Revenue (Millions)</th>\n",
              "      <th>Metascore</th>\n",
              "    </tr>\n",
              "    <tr>\n",
              "      <th>Title</th>\n",
              "      <th></th>\n",
              "      <th></th>\n",
              "      <th></th>\n",
              "      <th></th>\n",
              "      <th></th>\n",
              "      <th></th>\n",
              "      <th></th>\n",
              "      <th></th>\n",
              "      <th></th>\n",
              "      <th></th>\n",
              "      <th></th>\n",
              "    </tr>\n",
              "  </thead>\n",
              "  <tbody>\n",
              "    <tr>\n",
              "      <th>Guardians of the Galaxy</th>\n",
              "      <td>1</td>\n",
              "      <td>Action,Adventure,Sci-Fi</td>\n",
              "      <td>A group of intergalactic criminals are forced ...</td>\n",
              "      <td>James Gunn</td>\n",
              "      <td>Chris Pratt, Vin Diesel, Bradley Cooper, Zoe S...</td>\n",
              "      <td>2014</td>\n",
              "      <td>121</td>\n",
              "      <td>8.1</td>\n",
              "      <td>757074</td>\n",
              "      <td>333.13</td>\n",
              "      <td>76.0</td>\n",
              "    </tr>\n",
              "    <tr>\n",
              "      <th>Interstellar</th>\n",
              "      <td>37</td>\n",
              "      <td>Adventure,Drama,Sci-Fi</td>\n",
              "      <td>A team of explorers travel through a wormhole ...</td>\n",
              "      <td>Christopher Nolan</td>\n",
              "      <td>Matthew McConaughey, Anne Hathaway, Jessica Ch...</td>\n",
              "      <td>2014</td>\n",
              "      <td>169</td>\n",
              "      <td>8.6</td>\n",
              "      <td>1047747</td>\n",
              "      <td>187.99</td>\n",
              "      <td>74.0</td>\n",
              "    </tr>\n",
              "    <tr>\n",
              "      <th>Gone Girl</th>\n",
              "      <td>84</td>\n",
              "      <td>Crime,Drama,Mystery</td>\n",
              "      <td>With his wife's disappearance having become th...</td>\n",
              "      <td>David Fincher</td>\n",
              "      <td>Ben Affleck, Rosamund Pike, Neil Patrick Harri...</td>\n",
              "      <td>2014</td>\n",
              "      <td>149</td>\n",
              "      <td>8.1</td>\n",
              "      <td>636243</td>\n",
              "      <td>167.74</td>\n",
              "      <td>79.0</td>\n",
              "    </tr>\n",
              "    <tr>\n",
              "      <th>Ex Machina</th>\n",
              "      <td>110</td>\n",
              "      <td>Drama,Mystery,Sci-Fi</td>\n",
              "      <td>A young programmer is selected to participate ...</td>\n",
              "      <td>Alex Garland</td>\n",
              "      <td>Alicia Vikander, Domhnall Gleeson, Oscar Isaac...</td>\n",
              "      <td>2014</td>\n",
              "      <td>108</td>\n",
              "      <td>7.7</td>\n",
              "      <td>339797</td>\n",
              "      <td>25.44</td>\n",
              "      <td>78.0</td>\n",
              "    </tr>\n",
              "    <tr>\n",
              "      <th>Whiplash</th>\n",
              "      <td>134</td>\n",
              "      <td>Drama,Music</td>\n",
              "      <td>A promising young drummer enrolls at a cut-thr...</td>\n",
              "      <td>Damien Chazelle</td>\n",
              "      <td>Miles Teller, J.K. Simmons, Melissa Benoist, P...</td>\n",
              "      <td>2014</td>\n",
              "      <td>107</td>\n",
              "      <td>8.5</td>\n",
              "      <td>477276</td>\n",
              "      <td>13.09</td>\n",
              "      <td>88.0</td>\n",
              "    </tr>\n",
              "    <tr>\n",
              "      <th>X-Men: Days of Future Past</th>\n",
              "      <td>163</td>\n",
              "      <td>Action,Adventure,Sci-Fi</td>\n",
              "      <td>The X-Men send Wolverine to the past in a desp...</td>\n",
              "      <td>Bryan Singer</td>\n",
              "      <td>Patrick Stewart, Ian McKellen, Hugh Jackman, J...</td>\n",
              "      <td>2014</td>\n",
              "      <td>132</td>\n",
              "      <td>8.0</td>\n",
              "      <td>552298</td>\n",
              "      <td>233.91</td>\n",
              "      <td>74.0</td>\n",
              "    </tr>\n",
              "    <tr>\n",
              "      <th>Nightcrawler</th>\n",
              "      <td>171</td>\n",
              "      <td>Crime,Drama,Thriller</td>\n",
              "      <td>When Louis Bloom, a con man desperate for work...</td>\n",
              "      <td>Dan Gilroy</td>\n",
              "      <td>Jake Gyllenhaal, Rene Russo, Bill Paxton, Riz ...</td>\n",
              "      <td>2014</td>\n",
              "      <td>118</td>\n",
              "      <td>7.9</td>\n",
              "      <td>332476</td>\n",
              "      <td>32.28</td>\n",
              "      <td>76.0</td>\n",
              "    </tr>\n",
              "    <tr>\n",
              "      <th>Dawn of the Planet of the Apes</th>\n",
              "      <td>177</td>\n",
              "      <td>Action,Adventure,Drama</td>\n",
              "      <td>A growing nation of genetically evolved apes l...</td>\n",
              "      <td>Matt Reeves</td>\n",
              "      <td>Gary Oldman, Keri Russell, Andy Serkis, Kodi S...</td>\n",
              "      <td>2014</td>\n",
              "      <td>130</td>\n",
              "      <td>7.6</td>\n",
              "      <td>337777</td>\n",
              "      <td>208.54</td>\n",
              "      <td>79.0</td>\n",
              "    </tr>\n",
              "    <tr>\n",
              "      <th>The Imitation Game</th>\n",
              "      <td>199</td>\n",
              "      <td>Biography,Drama,Thriller</td>\n",
              "      <td>During World War II, mathematician Alan Turing...</td>\n",
              "      <td>Morten Tyldum</td>\n",
              "      <td>Benedict Cumberbatch, Keira Knightley, Matthew...</td>\n",
              "      <td>2014</td>\n",
              "      <td>114</td>\n",
              "      <td>8.1</td>\n",
              "      <td>532353</td>\n",
              "      <td>91.12</td>\n",
              "      <td>73.0</td>\n",
              "    </tr>\n",
              "    <tr>\n",
              "      <th>Edge of Tomorrow</th>\n",
              "      <td>201</td>\n",
              "      <td>Action,Adventure,Sci-Fi</td>\n",
              "      <td>A soldier fighting aliens gets to relive the s...</td>\n",
              "      <td>Doug Liman</td>\n",
              "      <td>Tom Cruise, Emily Blunt, Bill Paxton, Brendan ...</td>\n",
              "      <td>2014</td>\n",
              "      <td>113</td>\n",
              "      <td>7.9</td>\n",
              "      <td>471815</td>\n",
              "      <td>100.19</td>\n",
              "      <td>71.0</td>\n",
              "    </tr>\n",
              "    <tr>\n",
              "      <th>It Follows</th>\n",
              "      <td>223</td>\n",
              "      <td>Horror,Mystery</td>\n",
              "      <td>A young woman is followed by an unknown supern...</td>\n",
              "      <td>David Robert Mitchell</td>\n",
              "      <td>Maika Monroe, Keir Gilchrist, Olivia Luccardi,...</td>\n",
              "      <td>2014</td>\n",
              "      <td>100</td>\n",
              "      <td>6.9</td>\n",
              "      <td>136399</td>\n",
              "      <td>14.67</td>\n",
              "      <td>83.0</td>\n",
              "    </tr>\n",
              "    <tr>\n",
              "      <th>The Grand Budapest Hotel</th>\n",
              "      <td>239</td>\n",
              "      <td>Adventure,Comedy,Drama</td>\n",
              "      <td>The adventures of Gustave H, a legendary conci...</td>\n",
              "      <td>Wes Anderson</td>\n",
              "      <td>Ralph Fiennes, F. Murray Abraham, Mathieu Amal...</td>\n",
              "      <td>2014</td>\n",
              "      <td>99</td>\n",
              "      <td>8.1</td>\n",
              "      <td>530881</td>\n",
              "      <td>59.07</td>\n",
              "      <td>88.0</td>\n",
              "    </tr>\n",
              "    <tr>\n",
              "      <th>Birdman or (The Unexpected Virtue of Ignorance)</th>\n",
              "      <td>261</td>\n",
              "      <td>Comedy,Drama,Romance</td>\n",
              "      <td>Illustrated upon the progress of his latest Br...</td>\n",
              "      <td>Alejandro González Iñárritu</td>\n",
              "      <td>Michael Keaton, Zach Galifianakis,Edward Norto...</td>\n",
              "      <td>2014</td>\n",
              "      <td>119</td>\n",
              "      <td>7.8</td>\n",
              "      <td>440299</td>\n",
              "      <td>42.34</td>\n",
              "      <td>88.0</td>\n",
              "    </tr>\n",
              "    <tr>\n",
              "      <th>Dear White People</th>\n",
              "      <td>263</td>\n",
              "      <td>Comedy,Drama</td>\n",
              "      <td>The lives of four black students at an Ivy Lea...</td>\n",
              "      <td>Justin Simien</td>\n",
              "      <td>Tyler James Williams, Tessa Thompson, Kyle Gal...</td>\n",
              "      <td>2014</td>\n",
              "      <td>108</td>\n",
              "      <td>6.2</td>\n",
              "      <td>21715</td>\n",
              "      <td>4.40</td>\n",
              "      <td>79.0</td>\n",
              "    </tr>\n",
              "    <tr>\n",
              "      <th>22 Jump Street</th>\n",
              "      <td>277</td>\n",
              "      <td>Action,Comedy,Crime</td>\n",
              "      <td>After making their way through high school (tw...</td>\n",
              "      <td>Phil Lord</td>\n",
              "      <td>Channing Tatum, Jonah Hill, Ice Cube,Nick Offe...</td>\n",
              "      <td>2014</td>\n",
              "      <td>112</td>\n",
              "      <td>7.1</td>\n",
              "      <td>280110</td>\n",
              "      <td>191.62</td>\n",
              "      <td>71.0</td>\n",
              "    </tr>\n",
              "    <tr>\n",
              "      <th>Inherent Vice</th>\n",
              "      <td>306</td>\n",
              "      <td>Comedy,Crime,Drama</td>\n",
              "      <td>In 1970, drug-fueled Los Angeles private inves...</td>\n",
              "      <td>Paul Thomas Anderson</td>\n",
              "      <td>Joaquin Phoenix, Josh Brolin, Owen Wilson,Kath...</td>\n",
              "      <td>2014</td>\n",
              "      <td>148</td>\n",
              "      <td>6.7</td>\n",
              "      <td>69509</td>\n",
              "      <td>8.09</td>\n",
              "      <td>81.0</td>\n",
              "    </tr>\n",
              "    <tr>\n",
              "      <th>The Babadook</th>\n",
              "      <td>313</td>\n",
              "      <td>Drama,Horror</td>\n",
              "      <td>A single mother, plagued by the violent death ...</td>\n",
              "      <td>Jennifer Kent</td>\n",
              "      <td>Essie Davis, Noah Wiseman, Daniel Henshall, Ha...</td>\n",
              "      <td>2014</td>\n",
              "      <td>93</td>\n",
              "      <td>6.8</td>\n",
              "      <td>132580</td>\n",
              "      <td>0.92</td>\n",
              "      <td>86.0</td>\n",
              "    </tr>\n",
              "    <tr>\n",
              "      <th>American Sniper</th>\n",
              "      <td>332</td>\n",
              "      <td>Action,Biography,Drama</td>\n",
              "      <td>Navy S.E.A.L. sniper Chris Kyle's pinpoint acc...</td>\n",
              "      <td>Clint Eastwood</td>\n",
              "      <td>Bradley Cooper, Sienna Miller, Kyle Gallner, C...</td>\n",
              "      <td>2014</td>\n",
              "      <td>133</td>\n",
              "      <td>7.3</td>\n",
              "      <td>353305</td>\n",
              "      <td>350.12</td>\n",
              "      <td>72.0</td>\n",
              "    </tr>\n",
              "    <tr>\n",
              "      <th>The Theory of Everything</th>\n",
              "      <td>358</td>\n",
              "      <td>Biography,Drama,Romance</td>\n",
              "      <td>A look at the relationship between the famous ...</td>\n",
              "      <td>James Marsh</td>\n",
              "      <td>Eddie Redmayne, Felicity Jones, Tom Prior, Sop...</td>\n",
              "      <td>2014</td>\n",
              "      <td>123</td>\n",
              "      <td>7.7</td>\n",
              "      <td>299718</td>\n",
              "      <td>35.89</td>\n",
              "      <td>72.0</td>\n",
              "    </tr>\n",
              "    <tr>\n",
              "      <th>What We Do in the Shadows</th>\n",
              "      <td>381</td>\n",
              "      <td>Comedy,Fantasy,Horror</td>\n",
              "      <td>A documentary team films the lives of a group ...</td>\n",
              "      <td>Jemaine Clement</td>\n",
              "      <td>Jemaine Clement, Taika Waititi,Cori Gonzalez-M...</td>\n",
              "      <td>2014</td>\n",
              "      <td>86</td>\n",
              "      <td>7.6</td>\n",
              "      <td>84016</td>\n",
              "      <td>3.33</td>\n",
              "      <td>76.0</td>\n",
              "    </tr>\n",
              "    <tr>\n",
              "      <th>The Lego Movie</th>\n",
              "      <td>385</td>\n",
              "      <td>Animation,Action,Adventure</td>\n",
              "      <td>An ordinary Lego construction worker, thought ...</td>\n",
              "      <td>Phil Lord</td>\n",
              "      <td>Chris Pratt, Will Ferrell, Elizabeth Banks, Wi...</td>\n",
              "      <td>2014</td>\n",
              "      <td>100</td>\n",
              "      <td>7.8</td>\n",
              "      <td>266508</td>\n",
              "      <td>257.76</td>\n",
              "      <td>83.0</td>\n",
              "    </tr>\n",
              "    <tr>\n",
              "      <th>Big Hero 6</th>\n",
              "      <td>449</td>\n",
              "      <td>Animation,Action,Adventure</td>\n",
              "      <td>The special bond that develops between plus-si...</td>\n",
              "      <td>Don Hall</td>\n",
              "      <td>Ryan Potter, Scott Adsit, Jamie Chung,T.J. Miller</td>\n",
              "      <td>2014</td>\n",
              "      <td>102</td>\n",
              "      <td>7.8</td>\n",
              "      <td>309186</td>\n",
              "      <td>222.49</td>\n",
              "      <td>74.0</td>\n",
              "    </tr>\n",
              "    <tr>\n",
              "      <th>Mommy</th>\n",
              "      <td>609</td>\n",
              "      <td>Drama</td>\n",
              "      <td>A widowed single mother, raising her violent s...</td>\n",
              "      <td>Xavier Dolan</td>\n",
              "      <td>Anne Dorval, Antoine-Olivier Pilon, Suzanne Cl...</td>\n",
              "      <td>2014</td>\n",
              "      <td>139</td>\n",
              "      <td>8.1</td>\n",
              "      <td>33560</td>\n",
              "      <td>3.49</td>\n",
              "      <td>74.0</td>\n",
              "    </tr>\n",
              "    <tr>\n",
              "      <th>Relatos salvajes</th>\n",
              "      <td>642</td>\n",
              "      <td>Comedy,Drama,Thriller</td>\n",
              "      <td>Six short stories that explore the extremities...</td>\n",
              "      <td>Damián Szifron</td>\n",
              "      <td>Darío Grandinetti, María Marull, Mónica Villa,...</td>\n",
              "      <td>2014</td>\n",
              "      <td>122</td>\n",
              "      <td>8.1</td>\n",
              "      <td>110100</td>\n",
              "      <td>3.08</td>\n",
              "      <td>77.0</td>\n",
              "    </tr>\n",
              "    <tr>\n",
              "      <th>Boyhood</th>\n",
              "      <td>657</td>\n",
              "      <td>Drama</td>\n",
              "      <td>The life of Mason, from early childhood to his...</td>\n",
              "      <td>Richard Linklater</td>\n",
              "      <td>Ellar Coltrane, Patricia Arquette, Ethan Hawke...</td>\n",
              "      <td>2014</td>\n",
              "      <td>165</td>\n",
              "      <td>7.9</td>\n",
              "      <td>286722</td>\n",
              "      <td>25.36</td>\n",
              "      <td>100.0</td>\n",
              "    </tr>\n",
              "    <tr>\n",
              "      <th>Wild</th>\n",
              "      <td>722</td>\n",
              "      <td>Adventure,Biography,Drama</td>\n",
              "      <td>A chronicle of one woman's 1,100-mile solo hik...</td>\n",
              "      <td>Jean-Marc Vallée</td>\n",
              "      <td>Reese Witherspoon, Laura Dern, Gaby Hoffmann,M...</td>\n",
              "      <td>2014</td>\n",
              "      <td>115</td>\n",
              "      <td>7.1</td>\n",
              "      <td>95553</td>\n",
              "      <td>37.88</td>\n",
              "      <td>76.0</td>\n",
              "    </tr>\n",
              "    <tr>\n",
              "      <th>The Guest</th>\n",
              "      <td>730</td>\n",
              "      <td>Thriller</td>\n",
              "      <td>A soldier introduces himself to the Peterson f...</td>\n",
              "      <td>Adam Wingard</td>\n",
              "      <td>Dan Stevens, Sheila Kelley, Maika Monroe, Joel...</td>\n",
              "      <td>2014</td>\n",
              "      <td>100</td>\n",
              "      <td>6.7</td>\n",
              "      <td>71069</td>\n",
              "      <td>0.32</td>\n",
              "      <td>76.0</td>\n",
              "    </tr>\n",
              "    <tr>\n",
              "      <th>How to Train Your Dragon 2</th>\n",
              "      <td>904</td>\n",
              "      <td>Animation,Action,Adventure</td>\n",
              "      <td>When Hiccup and Toothless discover an ice cave...</td>\n",
              "      <td>Dean DeBlois</td>\n",
              "      <td>Jay Baruchel, Cate Blanchett, Gerard Butler, C...</td>\n",
              "      <td>2014</td>\n",
              "      <td>102</td>\n",
              "      <td>7.9</td>\n",
              "      <td>237565</td>\n",
              "      <td>177.00</td>\n",
              "      <td>76.0</td>\n",
              "    </tr>\n",
              "  </tbody>\n",
              "</table>\n",
              "</div>"
            ],
            "text/plain": [
              "                                                 Rank  ... Metascore\n",
              "Title                                                  ...          \n",
              "Guardians of the Galaxy                             1  ...      76.0\n",
              "Interstellar                                       37  ...      74.0\n",
              "Gone Girl                                          84  ...      79.0\n",
              "Ex Machina                                        110  ...      78.0\n",
              "Whiplash                                          134  ...      88.0\n",
              "X-Men: Days of Future Past                        163  ...      74.0\n",
              "Nightcrawler                                      171  ...      76.0\n",
              "Dawn of the Planet of the Apes                    177  ...      79.0\n",
              "The Imitation Game                                199  ...      73.0\n",
              "Edge of Tomorrow                                  201  ...      71.0\n",
              "It Follows                                        223  ...      83.0\n",
              "The Grand Budapest Hotel                          239  ...      88.0\n",
              "Birdman or (The Unexpected Virtue of Ignorance)   261  ...      88.0\n",
              "Dear White People                                 263  ...      79.0\n",
              "22 Jump Street                                    277  ...      71.0\n",
              "Inherent Vice                                     306  ...      81.0\n",
              "The Babadook                                      313  ...      86.0\n",
              "American Sniper                                   332  ...      72.0\n",
              "The Theory of Everything                          358  ...      72.0\n",
              "What We Do in the Shadows                         381  ...      76.0\n",
              "The Lego Movie                                    385  ...      83.0\n",
              "Big Hero 6                                        449  ...      74.0\n",
              "Mommy                                             609  ...      74.0\n",
              "Relatos salvajes                                  642  ...      77.0\n",
              "Boyhood                                           657  ...     100.0\n",
              "Wild                                              722  ...      76.0\n",
              "The Guest                                         730  ...      76.0\n",
              "How to Train Your Dragon 2                        904  ...      76.0\n",
              "\n",
              "[28 rows x 11 columns]"
            ]
          },
          "metadata": {},
          "execution_count": 29
        }
      ]
    }
  ]
}